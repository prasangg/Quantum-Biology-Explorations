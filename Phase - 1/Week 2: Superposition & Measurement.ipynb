{
 "cells": [
  {
   "cell_type": "markdown",
   "metadata": {},
   "source": [
    "# 💫 Phase 1, Week 2: The Quantum Dance of Superposition & Measurement! 💫\n",
    "\n",
    "Welcome back, fellow quantum explorer! This week, we're diving into one of the most mind-bending aspects of quantum mechanics: **Superposition and Measurement**. Imagine a tiny particle being in many places at once until you *look* at it – that's the magic we're unraveling!\n",
    "\n",
    "Our mission for this part of your \"First Project\" is crystal clear: **Simulate Qubit Measurements!** 🎯\n",
    "\n",
    "---\n",
    "\n",
    "## 🧐 1. Peeking into the Quantum World: Measurement Operators\n",
    "\n",
    "In the quantum realm, \"looking\" isn't as simple as opening your eyes. We use special tools called **Measurement Operators** (or Projection Operators) to figure out a qubit's state. Think of them as quantum \"detectives\" searching for specific outcomes!\n",
    "\n",
    "For our single qubit, these detectives are looking for either the $|0\\rangle$ state or the $|1\\rangle$ state:\n",
    "\n",
    "* **For $|0\\rangle$**: Our detective is the operator $|0\\rangle\\langle 0|$\n",
    "* **For $|1\\rangle$**: Our detective is the operator $|1\\rangle\\langle 1|$\n",
    "\n",
    "In the elegant world of QuTiP, we can conjure these detectives with a simple flick of the wrist (or, well, a few lines of code!): `ket_0 * ket_0.dag()` and `ket_1 * ket_1.dag()`.\n",
    "\n",
    "---\n",
    "\n",
    "## ✨ 2. The Odds Are... Quantum! Calculating Probabilities\n",
    "\n",
    "When a qubit is in a beautiful superposition, like $|\\psi\\rangle=\\alpha|0\\rangle+\\beta|1\\rangle$, it's not *definitely* 0 or *definitely* 1. Instead, there's a *probability* of finding it in either state when you measure it.\n",
    "\n",
    "* The chance of finding it in $|0\\rangle$ is given by the squared magnitude of its amplitude: $|\\alpha|^2$.\n",
    "* The chance of finding it in $|1\\rangle$ is given by the squared magnitude of its amplitude: $|\\beta|^2$.\n",
    "\n",
    "---\n",
    "\n",
    "## 🎲 3. The Grand Collapse: Simulating a Measurement!\n",
    "\n",
    "Here's where the quantum magic (or mystery!) happens. When you measure a qubit in superposition, it *collapses* from being \"a bit of both\" to being *definitely* one of the basis states. It's like flipping a coin, but the coin was spinning in the air (superposition) until it lands (measurement collapse)!\n",
    "\n",
    "QuTiP, for a single measurement, helps us by letting us calculate the probabilities. Then, we use a touch of randomness (like flipping that coin!) to simulate the outcome and \"collapse\" the state to that result."
   ]
  },
  {
   "cell_type": "code",
   "execution_count": 19,
   "metadata": {},
   "outputs": [
    {
     "name": "stdout",
     "output_type": "stream",
     "text": [
      "Our Inital Quantum State |ψ⟩ (Hadamard on |0>):\n",
      " Quantum object: dims=[[2], [1]], shape=(2, 1), type='ket', dtype=Dense\n",
      "Qobj data =\n",
      "[[0.70710678]\n",
      " [0.70710678]]\n",
      "\n",
      "🔬 Coefficients Unveiled:\n",
      "  α (amplitude for |0>): 0.7071+0.0000j\n",
      "  β (amplitude for |1>): 0.7071+0.0000j\n",
      "\n",
      "📊 Probabilities of Measurement:\n",
      "  Probability of measuring |0⟩: 0.5000\n",
      "  Probability of measuring |1⟩: 0.5000\n",
      "  Sum of probabilities: 1.0000 (Should always be 1.0 - a perfect quantum coin! 🪙)\n",
      "\n",
      "--- 💥 Simulating a single quantum measurement! 💥 ---\n",
      "Measurement result: Hurray! We found it in the |0⟩ state! 🎉\n",
      "The state after measurement (the 'collapsed' reality):\n",
      " Quantum object: dims=[[2], [1]], shape=(2, 1), type='ket', dtype=Dense\n",
      "Qobj data =\n",
      "[[1.]\n",
      " [0.]]\n",
      "\n",
      "--- 🧪 Running many measurements to see the statistical magic! 🧪 ---\n",
      "\n",
      "After 1000 measurements:\n",
      "  Measured |0⟩ approximately 0.510 of the time (Expected: 0.500)\n",
      "  Measured |1⟩ approximately 0.490 of the time (Expected: 0.500)\n",
      "\n",
      "Notice how the observed frequencies get closer to the calculated probabilities as we perform more measurements! That's the power of quantum statistics! 📈\n"
     ]
    }
   ],
   "source": [
    "import numpy as np\n",
    "from qutip import basis\n",
    "from qutip.qip.operations import hadamard_transform\n",
    "\n",
    "# --- 1. Let's set up our stage with an interesting qubit! ---\n",
    "# First, define our fundamental quantum building blocks: |0> and |1>\n",
    "\n",
    "ket_0 = basis(2, 0)\n",
    "ket_1 = basis(2, 1)\n",
    "\n",
    "# Now, let's create a classic superposition state: |0> after a Hadamard gate!\n",
    "# This results in (1/√2)|0> + (1/√2)|1>\n",
    "\n",
    "psi = hadamard_transform() * (ket_0)\n",
    "print(\"Our Inital Quantum State |ψ⟩ (Hadamard on |0>):\\n\", psi)\n",
    "\n",
    "# Let's peek at the coefficients (α and β) that define this state\n",
    "# For a QuTiP Qobj, you can grab the components like this:\n",
    "alpha = psi.full()[0,0] # The coefficient for |0>\n",
    "beta = psi.full()[1,0]  # The coefficient for |1>\n",
    "\n",
    "print(f\"\\n🔬 Coefficients Unveiled:\")\n",
    "print(f\"  α (amplitude for |0>): {alpha:.4f}\")\n",
    "print(f\"  β (amplitude for |1>): {beta:.4f}\")\n",
    "\n",
    "# --- 2. Now, for the exciting part: Calculating Measurement Probabilities! ---\n",
    "prob_0 = abs(alpha)**2\n",
    "prob_1 = abs(beta)**2\n",
    "\n",
    "print(f\"\\n📊 Probabilities of Measurement:\")\n",
    "print(f\"  Probability of measuring |0⟩: {prob_0:.4f}\")\n",
    "print(f\"  Probability of measuring |1⟩: {prob_1:.4f}\")\n",
    "print(f\"  Sum of probabilities: {prob_0 + prob_1:.4f} (Should always be 1.0 - a perfect quantum coin! 🪙)\")\n",
    "\n",
    "# Define our possible outcomes (the states the qubit can collapse into)\n",
    "outcomes = [ket_0, ket_1]\n",
    "\n",
    "# and their perspective probabilites\n",
    "probabilities = [prob_0, prob_1]\n",
    "\n",
    "# np.random.choice is perfect for this: it picks an item based on given probabilities\n",
    "# We perform one \"flip\" of our quantum coin:\n",
    "measured_state = np.random.choice(outcomes, p=probabilities)\n",
    "\n",
    "print(\"\\n--- 💥 Simulating a single quantum measurement! 💥 ---\")\n",
    "if measured_state == ket_0:\n",
    "    print(\"Measurement result: Hurray! We found it in the |0⟩ state! 🎉\")\n",
    "else:\n",
    "    print(\"Measurement result: Aha! The qubit collapsed to the |1⟩ state! 🌟\")\n",
    "\n",
    "print(\"The state after measurement (the 'collapsed' reality):\\n\", measured_state)\n",
    "\n",
    "# --- What happens if we do this many, many times? Let's find out! ---\n",
    "print(\"\\n--- 🧪 Running many measurements to see the statistical magic! 🧪 ---\")\n",
    "num_measurements = 1000 # Let's perform 1000 measurements!\n",
    "results = [] # To store our outcomes\n",
    "\n",
    "for _ in range(num_measurements):\n",
    "    # We choose an index (0 for |0>, 1 for |1>) based on our probabilities\n",
    "    result_idx = np.random.choice([0, 1], p=probabilities)\n",
    "    results.append(result_idx)\n",
    "\n",
    "# Let's count how many times we got each result\n",
    "count_0 = results.count(0)\n",
    "count_1 = results.count(1)\n",
    "\n",
    "print(f\"\\nAfter {num_measurements} measurements:\")\n",
    "print(f\"  Measured |0⟩ approximately {count_0 / num_measurements:.3f} of the time (Expected: {prob_0:.3f})\")\n",
    "print(f\"  Measured |1⟩ approximately {count_1 / num_measurements:.3f} of the time (Expected: {prob_1:.3f})\")\n",
    "\n",
    "print(\"\\nNotice how the observed frequencies get closer to the calculated probabilities as we perform more measurements! That's the power of quantum statistics! 📈\")\n",
    "\n"
   ]
  },
  {
   "cell_type": "code",
   "execution_count": 11,
   "metadata": {},
   "outputs": [
    {
     "data": {
      "text/plain": [
       "np.complex128(0.7071067811865475+0j)"
      ]
     },
     "execution_count": 11,
     "metadata": {},
     "output_type": "execute_result"
    }
   ],
   "source": [
    "psi.full()[0,0]"
   ]
  },
  {
   "cell_type": "markdown",
   "metadata": {},
   "source": []
  }
 ],
 "metadata": {
  "kernelspec": {
   "display_name": "venv",
   "language": "python",
   "name": "python3"
  },
  "language_info": {
   "codemirror_mode": {
    "name": "ipython",
    "version": 3
   },
   "file_extension": ".py",
   "mimetype": "text/x-python",
   "name": "python",
   "nbconvert_exporter": "python",
   "pygments_lexer": "ipython3",
   "version": "3.12.4"
  }
 },
 "nbformat": 4,
 "nbformat_minor": 2
}
